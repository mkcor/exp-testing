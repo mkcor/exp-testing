{
 "cells": [
  {
   "cell_type": "markdown",
   "metadata": {},
   "source": [
    "# Loading, testing, and wrangling experimental data\n",
    "## Guest Lecture at [PHYS 257](https://www.mcgill.ca/study/2017-2018/courses/phys-257)\n",
    "*November 16, 2017*\n",
    "### Marianne Corvellec"
   ]
  },
  {
   "cell_type": "markdown",
   "metadata": {},
   "source": [
    "### [The Carpentries](https://weaverbel.github.io/draft-site/)\n",
    "* Scientific Computing\n",
    "* Reproducible Research\n",
    "* Open Science\n",
    "* Grassroots Teaching\n",
    "* Community Building\n",
    "* etc."
   ]
  },
  {
   "cell_type": "code",
   "execution_count": 1,
   "metadata": {},
   "outputs": [],
   "source": [
    "import pandas as pd"
   ]
  },
  {
   "cell_type": "code",
   "execution_count": 2,
   "metadata": {},
   "outputs": [],
   "source": [
    "%matplotlib inline"
   ]
  },
  {
   "cell_type": "code",
   "execution_count": 3,
   "metadata": {},
   "outputs": [],
   "source": [
    "df = pd.read_csv('data/170911_BF_17R1_B24K8_LHe_measure_004.csv',\n",
    "                 sep='\\s+',\n",
    "                 header=17)"
   ]
  },
  {
   "cell_type": "code",
   "execution_count": 4,
   "metadata": {},
   "outputs": [
    {
     "data": {
      "text/html": [
       "<div>\n",
       "<style scoped>\n",
       "    .dataframe tbody tr th:only-of-type {\n",
       "        vertical-align: middle;\n",
       "    }\n",
       "\n",
       "    .dataframe tbody tr th {\n",
       "        vertical-align: top;\n",
       "    }\n",
       "\n",
       "    .dataframe thead th {\n",
       "        text-align: right;\n",
       "    }\n",
       "</style>\n",
       "<table border=\"1\" class=\"dataframe\">\n",
       "  <thead>\n",
       "    <tr style=\"text-align: right;\">\n",
       "      <th></th>\n",
       "      <th>Time</th>\n",
       "      <th>PRESSURE</th>\n",
       "      <th>TEMPERATURE</th>\n",
       "      <th>FLOW</th>\n",
       "      <th>P2</th>\n",
       "      <th>4K</th>\n",
       "      <th>flange</th>\n",
       "      <th>Still</th>\n",
       "      <th>flange.1</th>\n",
       "      <th>T</th>\n",
       "      <th>MXC</th>\n",
       "      <th>flange.2</th>\n",
       "      <th>T_CH8</th>\n",
       "      <th>R_CH8</th>\n",
       "      <th>heater</th>\n",
       "      <th>dt</th>\n",
       "    </tr>\n",
       "  </thead>\n",
       "  <tbody>\n",
       "    <tr>\n",
       "      <th>0</th>\n",
       "      <td>1.505153e+09</td>\n",
       "      <td>6.488</td>\n",
       "      <td>22.972</td>\n",
       "      <td>0.000036</td>\n",
       "      <td>0.003126</td>\n",
       "      <td>3.68326</td>\n",
       "      <td>3.34678</td>\n",
       "      <td>6.88776</td>\n",
       "      <td>2.07859</td>\n",
       "      <td>0.0</td>\n",
       "      <td>0.0</td>\n",
       "      <td>1.82</td>\n",
       "      <td>NaN</td>\n",
       "      <td>NaN</td>\n",
       "      <td>NaN</td>\n",
       "      <td>NaN</td>\n",
       "    </tr>\n",
       "    <tr>\n",
       "      <th>1</th>\n",
       "      <td>1.505153e+09</td>\n",
       "      <td>6.487</td>\n",
       "      <td>22.972</td>\n",
       "      <td>0.000036</td>\n",
       "      <td>0.003126</td>\n",
       "      <td>3.68326</td>\n",
       "      <td>3.34678</td>\n",
       "      <td>6.88776</td>\n",
       "      <td>2.06931</td>\n",
       "      <td>0.0</td>\n",
       "      <td>0.0</td>\n",
       "      <td>23.63</td>\n",
       "      <td>NaN</td>\n",
       "      <td>NaN</td>\n",
       "      <td>NaN</td>\n",
       "      <td>NaN</td>\n",
       "    </tr>\n",
       "    <tr>\n",
       "      <th>2</th>\n",
       "      <td>1.505153e+09</td>\n",
       "      <td>6.490</td>\n",
       "      <td>22.969</td>\n",
       "      <td>0.000036</td>\n",
       "      <td>0.003126</td>\n",
       "      <td>3.68231</td>\n",
       "      <td>3.34977</td>\n",
       "      <td>6.88776</td>\n",
       "      <td>2.06931</td>\n",
       "      <td>0.0</td>\n",
       "      <td>0.0</td>\n",
       "      <td>45.18</td>\n",
       "      <td>NaN</td>\n",
       "      <td>NaN</td>\n",
       "      <td>NaN</td>\n",
       "      <td>NaN</td>\n",
       "    </tr>\n",
       "    <tr>\n",
       "      <th>3</th>\n",
       "      <td>1.505153e+09</td>\n",
       "      <td>6.489</td>\n",
       "      <td>22.969</td>\n",
       "      <td>0.000036</td>\n",
       "      <td>0.003144</td>\n",
       "      <td>3.68231</td>\n",
       "      <td>3.34550</td>\n",
       "      <td>6.87122</td>\n",
       "      <td>2.06931</td>\n",
       "      <td>0.0</td>\n",
       "      <td>0.0</td>\n",
       "      <td>66.97</td>\n",
       "      <td>NaN</td>\n",
       "      <td>NaN</td>\n",
       "      <td>NaN</td>\n",
       "      <td>NaN</td>\n",
       "    </tr>\n",
       "    <tr>\n",
       "      <th>4</th>\n",
       "      <td>1.505153e+09</td>\n",
       "      <td>6.475</td>\n",
       "      <td>22.969</td>\n",
       "      <td>0.000036</td>\n",
       "      <td>0.003126</td>\n",
       "      <td>3.68231</td>\n",
       "      <td>3.34550</td>\n",
       "      <td>6.86597</td>\n",
       "      <td>2.02970</td>\n",
       "      <td>0.0</td>\n",
       "      <td>0.0</td>\n",
       "      <td>88.52</td>\n",
       "      <td>NaN</td>\n",
       "      <td>NaN</td>\n",
       "      <td>NaN</td>\n",
       "      <td>NaN</td>\n",
       "    </tr>\n",
       "  </tbody>\n",
       "</table>\n",
       "</div>"
      ],
      "text/plain": [
       "           Time  PRESSURE  TEMPERATURE      FLOW        P2       4K   flange  \\\n",
       "0  1.505153e+09     6.488       22.972  0.000036  0.003126  3.68326  3.34678   \n",
       "1  1.505153e+09     6.487       22.972  0.000036  0.003126  3.68326  3.34678   \n",
       "2  1.505153e+09     6.490       22.969  0.000036  0.003126  3.68231  3.34977   \n",
       "3  1.505153e+09     6.489       22.969  0.000036  0.003144  3.68231  3.34550   \n",
       "4  1.505153e+09     6.475       22.969  0.000036  0.003126  3.68231  3.34550   \n",
       "\n",
       "     Still  flange.1    T  MXC  flange.2  T_CH8  R_CH8  heater  dt  \n",
       "0  6.88776   2.07859  0.0  0.0      1.82    NaN    NaN     NaN NaN  \n",
       "1  6.88776   2.06931  0.0  0.0     23.63    NaN    NaN     NaN NaN  \n",
       "2  6.88776   2.06931  0.0  0.0     45.18    NaN    NaN     NaN NaN  \n",
       "3  6.87122   2.06931  0.0  0.0     66.97    NaN    NaN     NaN NaN  \n",
       "4  6.86597   2.02970  0.0  0.0     88.52    NaN    NaN     NaN NaN  "
      ]
     },
     "execution_count": 4,
     "metadata": {},
     "output_type": "execute_result"
    }
   ],
   "source": [
    "df.head()"
   ]
  },
  {
   "cell_type": "code",
   "execution_count": 5,
   "metadata": {},
   "outputs": [
    {
     "data": {
      "text/plain": [
       "(4501, 16)"
      ]
     },
     "execution_count": 5,
     "metadata": {},
     "output_type": "execute_result"
    }
   ],
   "source": [
    "df.shape"
   ]
  },
  {
   "cell_type": "code",
   "execution_count": 6,
   "metadata": {},
   "outputs": [
    {
     "data": {
      "text/html": [
       "<div>\n",
       "<style scoped>\n",
       "    .dataframe tbody tr th:only-of-type {\n",
       "        vertical-align: middle;\n",
       "    }\n",
       "\n",
       "    .dataframe tbody tr th {\n",
       "        vertical-align: top;\n",
       "    }\n",
       "\n",
       "    .dataframe thead th {\n",
       "        text-align: right;\n",
       "    }\n",
       "</style>\n",
       "<table border=\"1\" class=\"dataframe\">\n",
       "  <thead>\n",
       "    <tr style=\"text-align: right;\">\n",
       "      <th></th>\n",
       "      <th>Time</th>\n",
       "      <th>PRESSURE</th>\n",
       "      <th>TEMPERATURE</th>\n",
       "      <th>FLOW</th>\n",
       "      <th>P2</th>\n",
       "      <th>4K</th>\n",
       "      <th>flange</th>\n",
       "      <th>Still</th>\n",
       "      <th>flange.1</th>\n",
       "      <th>T</th>\n",
       "      <th>MXC</th>\n",
       "      <th>flange.2</th>\n",
       "      <th>T_CH8</th>\n",
       "      <th>R_CH8</th>\n",
       "      <th>heater</th>\n",
       "      <th>dt</th>\n",
       "    </tr>\n",
       "  </thead>\n",
       "  <tbody>\n",
       "    <tr>\n",
       "      <th>4498</th>\n",
       "      <td>1.505251e+09</td>\n",
       "      <td>8.709</td>\n",
       "      <td>22.812</td>\n",
       "      <td>2.381000e-09</td>\n",
       "      <td>0.003447</td>\n",
       "      <td>3.77349</td>\n",
       "      <td>3.72519</td>\n",
       "      <td>3.14307</td>\n",
       "      <td>2.75310</td>\n",
       "      <td>0.0</td>\n",
       "      <td>0.0</td>\n",
       "      <td>97389.46</td>\n",
       "      <td>NaN</td>\n",
       "      <td>NaN</td>\n",
       "      <td>NaN</td>\n",
       "      <td>NaN</td>\n",
       "    </tr>\n",
       "    <tr>\n",
       "      <th>4499</th>\n",
       "      <td>1.505251e+09</td>\n",
       "      <td>8.691</td>\n",
       "      <td>22.812</td>\n",
       "      <td>4.440000e-05</td>\n",
       "      <td>0.003548</td>\n",
       "      <td>3.77503</td>\n",
       "      <td>3.72519</td>\n",
       "      <td>3.14307</td>\n",
       "      <td>2.75985</td>\n",
       "      <td>0.0</td>\n",
       "      <td>0.0</td>\n",
       "      <td>97411.03</td>\n",
       "      <td>NaN</td>\n",
       "      <td>NaN</td>\n",
       "      <td>NaN</td>\n",
       "      <td>NaN</td>\n",
       "    </tr>\n",
       "    <tr>\n",
       "      <th>4500</th>\n",
       "      <td>1.505251e+09</td>\n",
       "      <td>8.684</td>\n",
       "      <td>22.812</td>\n",
       "      <td>4.362000e-05</td>\n",
       "      <td>0.003311</td>\n",
       "      <td>3.77452</td>\n",
       "      <td>3.72182</td>\n",
       "      <td>3.16745</td>\n",
       "      <td>2.75985</td>\n",
       "      <td>0.0</td>\n",
       "      <td>0.0</td>\n",
       "      <td>97432.84</td>\n",
       "      <td>NaN</td>\n",
       "      <td>NaN</td>\n",
       "      <td>NaN</td>\n",
       "      <td>NaN</td>\n",
       "    </tr>\n",
       "  </tbody>\n",
       "</table>\n",
       "</div>"
      ],
      "text/plain": [
       "              Time  PRESSURE  TEMPERATURE          FLOW        P2       4K  \\\n",
       "4498  1.505251e+09     8.709       22.812  2.381000e-09  0.003447  3.77349   \n",
       "4499  1.505251e+09     8.691       22.812  4.440000e-05  0.003548  3.77503   \n",
       "4500  1.505251e+09     8.684       22.812  4.362000e-05  0.003311  3.77452   \n",
       "\n",
       "       flange    Still  flange.1    T  MXC  flange.2  T_CH8  R_CH8  heater  dt  \n",
       "4498  3.72519  3.14307   2.75310  0.0  0.0  97389.46    NaN    NaN     NaN NaN  \n",
       "4499  3.72519  3.14307   2.75985  0.0  0.0  97411.03    NaN    NaN     NaN NaN  \n",
       "4500  3.72182  3.16745   2.75985  0.0  0.0  97432.84    NaN    NaN     NaN NaN  "
      ]
     },
     "execution_count": 6,
     "metadata": {},
     "output_type": "execute_result"
    }
   ],
   "source": [
    "df.tail(3)"
   ]
  },
  {
   "cell_type": "code",
   "execution_count": 7,
   "metadata": {},
   "outputs": [
    {
     "data": {
      "text/html": [
       "<div>\n",
       "<style scoped>\n",
       "    .dataframe tbody tr th:only-of-type {\n",
       "        vertical-align: middle;\n",
       "    }\n",
       "\n",
       "    .dataframe tbody tr th {\n",
       "        vertical-align: top;\n",
       "    }\n",
       "\n",
       "    .dataframe thead th {\n",
       "        text-align: right;\n",
       "    }\n",
       "</style>\n",
       "<table border=\"1\" class=\"dataframe\">\n",
       "  <thead>\n",
       "    <tr style=\"text-align: right;\">\n",
       "      <th></th>\n",
       "      <th>Time</th>\n",
       "      <th>PRESSURE</th>\n",
       "      <th>TEMPERATURE</th>\n",
       "      <th>FLOW</th>\n",
       "      <th>P2</th>\n",
       "      <th>4K</th>\n",
       "      <th>flange</th>\n",
       "      <th>Still</th>\n",
       "      <th>flange.1</th>\n",
       "      <th>T</th>\n",
       "      <th>MXC</th>\n",
       "      <th>flange.2</th>\n",
       "      <th>T_CH8</th>\n",
       "      <th>R_CH8</th>\n",
       "      <th>heater</th>\n",
       "      <th>dt</th>\n",
       "    </tr>\n",
       "  </thead>\n",
       "  <tbody>\n",
       "    <tr>\n",
       "      <th>2343</th>\n",
       "      <td>1.505204e+09</td>\n",
       "      <td>5.618</td>\n",
       "      <td>24.003</td>\n",
       "      <td>0.000055</td>\n",
       "      <td>0.003144</td>\n",
       "      <td>3.6084</td>\n",
       "      <td>3.18591</td>\n",
       "      <td>1.9219</td>\n",
       "      <td>1.29258</td>\n",
       "      <td>0.0</td>\n",
       "      <td>0.0</td>\n",
       "      <td>50697.29</td>\n",
       "      <td>NaN</td>\n",
       "      <td>NaN</td>\n",
       "      <td>NaN</td>\n",
       "      <td>NaN</td>\n",
       "    </tr>\n",
       "  </tbody>\n",
       "</table>\n",
       "</div>"
      ],
      "text/plain": [
       "              Time  PRESSURE  TEMPERATURE      FLOW        P2      4K  \\\n",
       "2343  1.505204e+09     5.618       24.003  0.000055  0.003144  3.6084   \n",
       "\n",
       "       flange   Still  flange.1    T  MXC  flange.2  T_CH8  R_CH8  heater  dt  \n",
       "2343  3.18591  1.9219   1.29258  0.0  0.0  50697.29    NaN    NaN     NaN NaN  "
      ]
     },
     "execution_count": 7,
     "metadata": {},
     "output_type": "execute_result"
    }
   ],
   "source": [
    "df.sample()"
   ]
  },
  {
   "cell_type": "code",
   "execution_count": 8,
   "metadata": {},
   "outputs": [],
   "source": [
    "df.index = df['Time']"
   ]
  },
  {
   "cell_type": "code",
   "execution_count": 9,
   "metadata": {},
   "outputs": [
    {
     "data": {
      "text/plain": [
       "<matplotlib.axes._subplots.AxesSubplot at 0x7f803a20dc18>"
      ]
     },
     "execution_count": 9,
     "metadata": {},
     "output_type": "execute_result"
    },
    {
     "data": {
      "image/png": "[encoded data removed]",
      "text/plain": [
       "<matplotlib.figure.Figure at 0x7f803a1ff390>"
      ]
     },
     "metadata": {},
     "output_type": "display_data"
    }
   ],
   "source": [
    "df['TEMPERATURE'].plot()"
   ]
  }
 ],
 "metadata": {
  "kernelspec": {
   "display_name": "Python 3",
   "language": "python",
   "name": "python3"
  },
  "language_info": {
   "codemirror_mode": {
    "name": "ipython",
    "version": 3
   },
   "file_extension": ".py",
   "mimetype": "text/x-python",
   "name": "python",
   "nbconvert_exporter": "python",
   "pygments_lexer": "ipython3",
   "version": "3.6.3"
  }
 },
 "nbformat": 4,
 "nbformat_minor": 2
}
