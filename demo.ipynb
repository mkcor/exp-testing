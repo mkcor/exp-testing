{
 "cells": [
  {
   "cell_type": "markdown",
   "metadata": {},
   "source": [
    "# Loading, testing, and wrangling experimental data\n",
    "## Guest Lecture at [PHYS 257](https://www.mcgill.ca/study/2017-2018/courses/phys-257)\n",
    "*November 16, 2017*\n",
    "### Marianne Corvellec"
   ]
  },
  {
   "cell_type": "markdown",
   "metadata": {},
   "source": [
    "### [The Carpentries](https://weaverbel.github.io/draft-site/)\n",
    "* Scientific Computing\n",
    "* Reproducible Research\n",
    "* Open Science\n",
    "* Grassroots Teaching\n",
    "* Community Building\n",
    "* etc."
   ]
  },
  {
   "cell_type": "markdown",
   "metadata": {},
   "source": [
    "## 0) Pay attention to the metadata"
   ]
  },
  {
   "cell_type": "markdown",
   "metadata": {},
   "source": [
    "* Name your data files in a consistent and meaningful manner.\n",
    "* Save your parameter values in JSON format (config file).\n",
    "* Write lab notes as comments/headers."
   ]
  },
  {
   "cell_type": "markdown",
   "metadata": {},
   "source": [
    "For more on the scientific context, please refer to the material under [`docs/`](./docs/)."
   ]
  },
  {
   "cell_type": "code",
   "execution_count": 1,
   "metadata": {},
   "outputs": [],
   "source": [
    "import pandas as pd"
   ]
  },
  {
   "cell_type": "code",
   "execution_count": 2,
   "metadata": {},
   "outputs": [],
   "source": [
    "%matplotlib inline"
   ]
  },
  {
   "cell_type": "code",
   "execution_count": 3,
   "metadata": {},
   "outputs": [],
   "source": [
    "df = pd.read_csv('data/170911_BF_17R1_B24K8_LHe_measure_004.csv',\n",
    "                 sep='\\s+',\n",
    "                 comment='#')"
   ]
  },
  {
   "cell_type": "markdown",
   "metadata": {},
   "source": [
    "## 1) Get a feel for the data"
   ]
  },
  {
   "cell_type": "code",
   "execution_count": 4,
   "metadata": {},
   "outputs": [
    {
     "data": {
      "text/html": [
       "<div>\n",
       "<style scoped>\n",
       "    .dataframe tbody tr th:only-of-type {\n",
       "        vertical-align: middle;\n",
       "    }\n",
       "\n",
       "    .dataframe tbody tr th {\n",
       "        vertical-align: top;\n",
       "    }\n",
       "\n",
       "    .dataframe thead th {\n",
       "        text-align: right;\n",
       "    }\n",
       "</style>\n",
       "<table border=\"1\" class=\"dataframe\">\n",
       "  <thead>\n",
       "    <tr style=\"text-align: right;\">\n",
       "      <th></th>\n",
       "      <th>Time</th>\n",
       "      <th>PRESSURE</th>\n",
       "      <th>TEMPERATURE</th>\n",
       "      <th>FLOW</th>\n",
       "      <th>P2</th>\n",
       "      <th>4K_flange</th>\n",
       "      <th>Still_flange</th>\n",
       "      <th>T_MXC_flange</th>\n",
       "      <th>T_CH8</th>\n",
       "      <th>R_CH8</th>\n",
       "      <th>heater</th>\n",
       "      <th>dt</th>\n",
       "    </tr>\n",
       "  </thead>\n",
       "  <tbody>\n",
       "    <tr>\n",
       "      <th>0</th>\n",
       "      <td>1.505153e+09</td>\n",
       "      <td>6.488</td>\n",
       "      <td>22.972</td>\n",
       "      <td>0.000036</td>\n",
       "      <td>0.003126</td>\n",
       "      <td>3.68326</td>\n",
       "      <td>3.34678</td>\n",
       "      <td>6.88776</td>\n",
       "      <td>2.07859</td>\n",
       "      <td>0.0</td>\n",
       "      <td>0.0</td>\n",
       "      <td>1.82</td>\n",
       "    </tr>\n",
       "    <tr>\n",
       "      <th>1</th>\n",
       "      <td>1.505153e+09</td>\n",
       "      <td>6.487</td>\n",
       "      <td>22.972</td>\n",
       "      <td>0.000036</td>\n",
       "      <td>0.003126</td>\n",
       "      <td>3.68326</td>\n",
       "      <td>3.34678</td>\n",
       "      <td>6.88776</td>\n",
       "      <td>2.06931</td>\n",
       "      <td>0.0</td>\n",
       "      <td>0.0</td>\n",
       "      <td>23.63</td>\n",
       "    </tr>\n",
       "    <tr>\n",
       "      <th>2</th>\n",
       "      <td>1.505153e+09</td>\n",
       "      <td>6.490</td>\n",
       "      <td>22.969</td>\n",
       "      <td>0.000036</td>\n",
       "      <td>0.003126</td>\n",
       "      <td>3.68231</td>\n",
       "      <td>3.34977</td>\n",
       "      <td>6.88776</td>\n",
       "      <td>2.06931</td>\n",
       "      <td>0.0</td>\n",
       "      <td>0.0</td>\n",
       "      <td>45.18</td>\n",
       "    </tr>\n",
       "    <tr>\n",
       "      <th>3</th>\n",
       "      <td>1.505153e+09</td>\n",
       "      <td>6.489</td>\n",
       "      <td>22.969</td>\n",
       "      <td>0.000036</td>\n",
       "      <td>0.003144</td>\n",
       "      <td>3.68231</td>\n",
       "      <td>3.34550</td>\n",
       "      <td>6.87122</td>\n",
       "      <td>2.06931</td>\n",
       "      <td>0.0</td>\n",
       "      <td>0.0</td>\n",
       "      <td>66.97</td>\n",
       "    </tr>\n",
       "    <tr>\n",
       "      <th>4</th>\n",
       "      <td>1.505153e+09</td>\n",
       "      <td>6.475</td>\n",
       "      <td>22.969</td>\n",
       "      <td>0.000036</td>\n",
       "      <td>0.003126</td>\n",
       "      <td>3.68231</td>\n",
       "      <td>3.34550</td>\n",
       "      <td>6.86597</td>\n",
       "      <td>2.02970</td>\n",
       "      <td>0.0</td>\n",
       "      <td>0.0</td>\n",
       "      <td>88.52</td>\n",
       "    </tr>\n",
       "  </tbody>\n",
       "</table>\n",
       "</div>"
      ],
      "text/plain": [
       "           Time  PRESSURE  TEMPERATURE      FLOW        P2  4K_flange  \\\n",
       "0  1.505153e+09     6.488       22.972  0.000036  0.003126    3.68326   \n",
       "1  1.505153e+09     6.487       22.972  0.000036  0.003126    3.68326   \n",
       "2  1.505153e+09     6.490       22.969  0.000036  0.003126    3.68231   \n",
       "3  1.505153e+09     6.489       22.969  0.000036  0.003144    3.68231   \n",
       "4  1.505153e+09     6.475       22.969  0.000036  0.003126    3.68231   \n",
       "\n",
       "   Still_flange  T_MXC_flange    T_CH8  R_CH8  heater     dt  \n",
       "0       3.34678       6.88776  2.07859    0.0     0.0   1.82  \n",
       "1       3.34678       6.88776  2.06931    0.0     0.0  23.63  \n",
       "2       3.34977       6.88776  2.06931    0.0     0.0  45.18  \n",
       "3       3.34550       6.87122  2.06931    0.0     0.0  66.97  \n",
       "4       3.34550       6.86597  2.02970    0.0     0.0  88.52  "
      ]
     },
     "execution_count": 4,
     "metadata": {},
     "output_type": "execute_result"
    }
   ],
   "source": [
    "df.head()"
   ]
  },
  {
   "cell_type": "code",
   "execution_count": 5,
   "metadata": {},
   "outputs": [
    {
     "data": {
      "text/plain": [
       "(4501, 12)"
      ]
     },
     "execution_count": 5,
     "metadata": {},
     "output_type": "execute_result"
    }
   ],
   "source": [
    "df.shape"
   ]
  },
  {
   "cell_type": "code",
   "execution_count": 6,
   "metadata": {},
   "outputs": [
    {
     "data": {
      "text/html": [
       "<div>\n",
       "<style scoped>\n",
       "    .dataframe tbody tr th:only-of-type {\n",
       "        vertical-align: middle;\n",
       "    }\n",
       "\n",
       "    .dataframe tbody tr th {\n",
       "        vertical-align: top;\n",
       "    }\n",
       "\n",
       "    .dataframe thead th {\n",
       "        text-align: right;\n",
       "    }\n",
       "</style>\n",
       "<table border=\"1\" class=\"dataframe\">\n",
       "  <thead>\n",
       "    <tr style=\"text-align: right;\">\n",
       "      <th></th>\n",
       "      <th>Time</th>\n",
       "      <th>PRESSURE</th>\n",
       "      <th>TEMPERATURE</th>\n",
       "      <th>FLOW</th>\n",
       "      <th>P2</th>\n",
       "      <th>4K_flange</th>\n",
       "      <th>Still_flange</th>\n",
       "      <th>T_MXC_flange</th>\n",
       "      <th>T_CH8</th>\n",
       "      <th>R_CH8</th>\n",
       "      <th>heater</th>\n",
       "      <th>dt</th>\n",
       "    </tr>\n",
       "  </thead>\n",
       "  <tbody>\n",
       "    <tr>\n",
       "      <th>4498</th>\n",
       "      <td>1.505251e+09</td>\n",
       "      <td>8.709</td>\n",
       "      <td>22.812</td>\n",
       "      <td>2.381000e-09</td>\n",
       "      <td>0.003447</td>\n",
       "      <td>3.77349</td>\n",
       "      <td>3.72519</td>\n",
       "      <td>3.14307</td>\n",
       "      <td>2.75310</td>\n",
       "      <td>0.0</td>\n",
       "      <td>0.0</td>\n",
       "      <td>97389.46</td>\n",
       "    </tr>\n",
       "    <tr>\n",
       "      <th>4499</th>\n",
       "      <td>1.505251e+09</td>\n",
       "      <td>8.691</td>\n",
       "      <td>22.812</td>\n",
       "      <td>4.440000e-05</td>\n",
       "      <td>0.003548</td>\n",
       "      <td>3.77503</td>\n",
       "      <td>3.72519</td>\n",
       "      <td>3.14307</td>\n",
       "      <td>2.75985</td>\n",
       "      <td>0.0</td>\n",
       "      <td>0.0</td>\n",
       "      <td>97411.03</td>\n",
       "    </tr>\n",
       "    <tr>\n",
       "      <th>4500</th>\n",
       "      <td>1.505251e+09</td>\n",
       "      <td>8.684</td>\n",
       "      <td>22.812</td>\n",
       "      <td>4.362000e-05</td>\n",
       "      <td>0.003311</td>\n",
       "      <td>3.77452</td>\n",
       "      <td>3.72182</td>\n",
       "      <td>3.16745</td>\n",
       "      <td>2.75985</td>\n",
       "      <td>0.0</td>\n",
       "      <td>0.0</td>\n",
       "      <td>97432.84</td>\n",
       "    </tr>\n",
       "  </tbody>\n",
       "</table>\n",
       "</div>"
      ],
      "text/plain": [
       "              Time  PRESSURE  TEMPERATURE          FLOW        P2  4K_flange  \\\n",
       "4498  1.505251e+09     8.709       22.812  2.381000e-09  0.003447    3.77349   \n",
       "4499  1.505251e+09     8.691       22.812  4.440000e-05  0.003548    3.77503   \n",
       "4500  1.505251e+09     8.684       22.812  4.362000e-05  0.003311    3.77452   \n",
       "\n",
       "      Still_flange  T_MXC_flange    T_CH8  R_CH8  heater        dt  \n",
       "4498       3.72519       3.14307  2.75310    0.0     0.0  97389.46  \n",
       "4499       3.72519       3.14307  2.75985    0.0     0.0  97411.03  \n",
       "4500       3.72182       3.16745  2.75985    0.0     0.0  97432.84  "
      ]
     },
     "execution_count": 6,
     "metadata": {},
     "output_type": "execute_result"
    }
   ],
   "source": [
    "df.tail(3)"
   ]
  },
  {
   "cell_type": "code",
   "execution_count": 7,
   "metadata": {},
   "outputs": [
    {
     "data": {
      "text/html": [
       "<div>\n",
       "<style scoped>\n",
       "    .dataframe tbody tr th:only-of-type {\n",
       "        vertical-align: middle;\n",
       "    }\n",
       "\n",
       "    .dataframe tbody tr th {\n",
       "        vertical-align: top;\n",
       "    }\n",
       "\n",
       "    .dataframe thead th {\n",
       "        text-align: right;\n",
       "    }\n",
       "</style>\n",
       "<table border=\"1\" class=\"dataframe\">\n",
       "  <thead>\n",
       "    <tr style=\"text-align: right;\">\n",
       "      <th></th>\n",
       "      <th>Time</th>\n",
       "      <th>PRESSURE</th>\n",
       "      <th>TEMPERATURE</th>\n",
       "      <th>FLOW</th>\n",
       "      <th>P2</th>\n",
       "      <th>4K_flange</th>\n",
       "      <th>Still_flange</th>\n",
       "      <th>T_MXC_flange</th>\n",
       "      <th>T_CH8</th>\n",
       "      <th>R_CH8</th>\n",
       "      <th>heater</th>\n",
       "      <th>dt</th>\n",
       "    </tr>\n",
       "  </thead>\n",
       "  <tbody>\n",
       "    <tr>\n",
       "      <th>536</th>\n",
       "      <td>1.505165e+09</td>\n",
       "      <td>5.968</td>\n",
       "      <td>23.156</td>\n",
       "      <td>0.000057</td>\n",
       "      <td>0.003144</td>\n",
       "      <td>3.62971</td>\n",
       "      <td>3.21829</td>\n",
       "      <td>3.7164</td>\n",
       "      <td>1.53331</td>\n",
       "      <td>0.0</td>\n",
       "      <td>0.0</td>\n",
       "      <td>11619.09</td>\n",
       "    </tr>\n",
       "  </tbody>\n",
       "</table>\n",
       "</div>"
      ],
      "text/plain": [
       "             Time  PRESSURE  TEMPERATURE      FLOW        P2  4K_flange  \\\n",
       "536  1.505165e+09     5.968       23.156  0.000057  0.003144    3.62971   \n",
       "\n",
       "     Still_flange  T_MXC_flange    T_CH8  R_CH8  heater        dt  \n",
       "536       3.21829        3.7164  1.53331    0.0     0.0  11619.09  "
      ]
     },
     "execution_count": 7,
     "metadata": {},
     "output_type": "execute_result"
    }
   ],
   "source": [
    "df.sample()"
   ]
  },
  {
   "cell_type": "code",
   "execution_count": 8,
   "metadata": {},
   "outputs": [
    {
     "data": {
      "text/html": [
       "<div>\n",
       "<style scoped>\n",
       "    .dataframe tbody tr th:only-of-type {\n",
       "        vertical-align: middle;\n",
       "    }\n",
       "\n",
       "    .dataframe tbody tr th {\n",
       "        vertical-align: top;\n",
       "    }\n",
       "\n",
       "    .dataframe thead th {\n",
       "        text-align: right;\n",
       "    }\n",
       "</style>\n",
       "<table border=\"1\" class=\"dataframe\">\n",
       "  <thead>\n",
       "    <tr style=\"text-align: right;\">\n",
       "      <th></th>\n",
       "      <th>Time</th>\n",
       "      <th>PRESSURE</th>\n",
       "      <th>TEMPERATURE</th>\n",
       "      <th>FLOW</th>\n",
       "      <th>P2</th>\n",
       "      <th>4K_flange</th>\n",
       "      <th>Still_flange</th>\n",
       "      <th>T_MXC_flange</th>\n",
       "      <th>T_CH8</th>\n",
       "      <th>R_CH8</th>\n",
       "      <th>heater</th>\n",
       "      <th>dt</th>\n",
       "    </tr>\n",
       "  </thead>\n",
       "  <tbody>\n",
       "    <tr>\n",
       "      <th>count</th>\n",
       "      <td>4.501000e+03</td>\n",
       "      <td>4501.000000</td>\n",
       "      <td>4501.000000</td>\n",
       "      <td>4.501000e+03</td>\n",
       "      <td>4501.000000</td>\n",
       "      <td>4501.000000</td>\n",
       "      <td>4501.000000</td>\n",
       "      <td>4501.000000</td>\n",
       "      <td>4501.000000</td>\n",
       "      <td>4501.0</td>\n",
       "      <td>4501.0</td>\n",
       "      <td>4501.000000</td>\n",
       "    </tr>\n",
       "    <tr>\n",
       "      <th>mean</th>\n",
       "      <td>1.505202e+09</td>\n",
       "      <td>6.165225</td>\n",
       "      <td>23.222813</td>\n",
       "      <td>3.110473e+00</td>\n",
       "      <td>37.561982</td>\n",
       "      <td>3.642019</td>\n",
       "      <td>3.280168</td>\n",
       "      <td>3.123429</td>\n",
       "      <td>1.616429</td>\n",
       "      <td>0.0</td>\n",
       "      <td>0.0</td>\n",
       "      <td>48695.999120</td>\n",
       "    </tr>\n",
       "    <tr>\n",
       "      <th>std</th>\n",
       "      <td>2.810670e+04</td>\n",
       "      <td>1.143845</td>\n",
       "      <td>0.667135</td>\n",
       "      <td>5.569052e+01</td>\n",
       "      <td>189.957221</td>\n",
       "      <td>0.057845</td>\n",
       "      <td>0.185613</td>\n",
       "      <td>1.226942</td>\n",
       "      <td>0.502688</td>\n",
       "      <td>0.0</td>\n",
       "      <td>0.0</td>\n",
       "      <td>28106.708328</td>\n",
       "    </tr>\n",
       "    <tr>\n",
       "      <th>min</th>\n",
       "      <td>1.505153e+09</td>\n",
       "      <td>5.536000</td>\n",
       "      <td>22.086000</td>\n",
       "      <td>1.000000e-12</td>\n",
       "      <td>0.003126</td>\n",
       "      <td>3.603280</td>\n",
       "      <td>3.180880</td>\n",
       "      <td>1.870240</td>\n",
       "      <td>1.288750</td>\n",
       "      <td>0.0</td>\n",
       "      <td>0.0</td>\n",
       "      <td>1.820000</td>\n",
       "    </tr>\n",
       "    <tr>\n",
       "      <th>25%</th>\n",
       "      <td>1.505178e+09</td>\n",
       "      <td>5.607000</td>\n",
       "      <td>22.752000</td>\n",
       "      <td>5.176000e-05</td>\n",
       "      <td>0.003144</td>\n",
       "      <td>3.608590</td>\n",
       "      <td>3.188990</td>\n",
       "      <td>2.332290</td>\n",
       "      <td>1.309590</td>\n",
       "      <td>0.0</td>\n",
       "      <td>0.0</td>\n",
       "      <td>24389.580000</td>\n",
       "    </tr>\n",
       "    <tr>\n",
       "      <th>50%</th>\n",
       "      <td>1.505202e+09</td>\n",
       "      <td>5.728000</td>\n",
       "      <td>23.096000</td>\n",
       "      <td>5.730000e-05</td>\n",
       "      <td>0.003144</td>\n",
       "      <td>3.618410</td>\n",
       "      <td>3.201220</td>\n",
       "      <td>2.921160</td>\n",
       "      <td>1.390510</td>\n",
       "      <td>0.0</td>\n",
       "      <td>0.0</td>\n",
       "      <td>48690.860000</td>\n",
       "    </tr>\n",
       "    <tr>\n",
       "      <th>75%</th>\n",
       "      <td>1.505226e+09</td>\n",
       "      <td>5.989000</td>\n",
       "      <td>23.752000</td>\n",
       "      <td>6.018000e-05</td>\n",
       "      <td>0.003162</td>\n",
       "      <td>3.635020</td>\n",
       "      <td>3.231830</td>\n",
       "      <td>3.269020</td>\n",
       "      <td>1.571850</td>\n",
       "      <td>0.0</td>\n",
       "      <td>0.0</td>\n",
       "      <td>73001.280000</td>\n",
       "    </tr>\n",
       "    <tr>\n",
       "      <th>max</th>\n",
       "      <td>1.505251e+09</td>\n",
       "      <td>14.026000</td>\n",
       "      <td>24.519000</td>\n",
       "      <td>1.000000e+03</td>\n",
       "      <td>1000.000000</td>\n",
       "      <td>4.022820</td>\n",
       "      <td>4.800240</td>\n",
       "      <td>6.895100</td>\n",
       "      <td>3.582020</td>\n",
       "      <td>0.0</td>\n",
       "      <td>0.0</td>\n",
       "      <td>97432.840000</td>\n",
       "    </tr>\n",
       "  </tbody>\n",
       "</table>\n",
       "</div>"
      ],
      "text/plain": [
       "               Time     PRESSURE  TEMPERATURE          FLOW           P2  \\\n",
       "count  4.501000e+03  4501.000000  4501.000000  4.501000e+03  4501.000000   \n",
       "mean   1.505202e+09     6.165225    23.222813  3.110473e+00    37.561982   \n",
       "std    2.810670e+04     1.143845     0.667135  5.569052e+01   189.957221   \n",
       "min    1.505153e+09     5.536000    22.086000  1.000000e-12     0.003126   \n",
       "25%    1.505178e+09     5.607000    22.752000  5.176000e-05     0.003144   \n",
       "50%    1.505202e+09     5.728000    23.096000  5.730000e-05     0.003144   \n",
       "75%    1.505226e+09     5.989000    23.752000  6.018000e-05     0.003162   \n",
       "max    1.505251e+09    14.026000    24.519000  1.000000e+03  1000.000000   \n",
       "\n",
       "         4K_flange  Still_flange  T_MXC_flange        T_CH8   R_CH8  heater  \\\n",
       "count  4501.000000   4501.000000   4501.000000  4501.000000  4501.0  4501.0   \n",
       "mean      3.642019      3.280168      3.123429     1.616429     0.0     0.0   \n",
       "std       0.057845      0.185613      1.226942     0.502688     0.0     0.0   \n",
       "min       3.603280      3.180880      1.870240     1.288750     0.0     0.0   \n",
       "25%       3.608590      3.188990      2.332290     1.309590     0.0     0.0   \n",
       "50%       3.618410      3.201220      2.921160     1.390510     0.0     0.0   \n",
       "75%       3.635020      3.231830      3.269020     1.571850     0.0     0.0   \n",
       "max       4.022820      4.800240      6.895100     3.582020     0.0     0.0   \n",
       "\n",
       "                 dt  \n",
       "count   4501.000000  \n",
       "mean   48695.999120  \n",
       "std    28106.708328  \n",
       "min        1.820000  \n",
       "25%    24389.580000  \n",
       "50%    48690.860000  \n",
       "75%    73001.280000  \n",
       "max    97432.840000  "
      ]
     },
     "execution_count": 8,
     "metadata": {},
     "output_type": "execute_result"
    }
   ],
   "source": [
    "df.describe()"
   ]
  },
  {
   "cell_type": "markdown",
   "metadata": {},
   "source": [
    "Let us plot the values of room temperature during this experiment."
   ]
  },
  {
   "cell_type": "code",
   "execution_count": 9,
   "metadata": {},
   "outputs": [
    {
     "data": {
      "text/plain": [
       "<matplotlib.axes._subplots.AxesSubplot at 0x7f9a6ca32eb8>"
      ]
     },
     "execution_count": 9,
     "metadata": {},
     "output_type": "execute_result"
    },
    {
     "data": {
      "image/png": "[encoded data removed]",
      "text/plain": [
       "<matplotlib.figure.Figure at 0x7f9a6ca9e5f8>"
      ]
     },
     "metadata": {},
     "output_type": "display_data"
    }
   ],
   "source": [
    "df['TEMPERATURE'].plot()"
   ]
  },
  {
   "cell_type": "markdown",
   "metadata": {},
   "source": [
    "## 2) Load data from the web"
   ]
  },
  {
   "cell_type": "markdown",
   "metadata": {},
   "source": [
    "We could load other datasets (from other sources), typically ones which are hosted somewhere on the web. Since this repo is hosted on GitHub, we can load the same dataset again (but, this time, from over the web)."
   ]
  },
  {
   "cell_type": "code",
   "execution_count": 10,
   "metadata": {},
   "outputs": [],
   "source": [
    "url = 'https://raw.githubusercontent.com/mkcor/exp-testing/master/data/170911_BF_17R1_B24K8_LHe_measure_004.csv'"
   ]
  },
  {
   "cell_type": "code",
   "execution_count": 11,
   "metadata": {},
   "outputs": [],
   "source": [
    "df2 = pd.read_csv(url,\n",
    "                  sep='\\s+',\n",
    "                  comment='#')"
   ]
  },
  {
   "cell_type": "code",
   "execution_count": 12,
   "metadata": {},
   "outputs": [
    {
     "data": {
      "text/html": [
       "<div>\n",
       "<style scoped>\n",
       "    .dataframe tbody tr th:only-of-type {\n",
       "        vertical-align: middle;\n",
       "    }\n",
       "\n",
       "    .dataframe tbody tr th {\n",
       "        vertical-align: top;\n",
       "    }\n",
       "\n",
       "    .dataframe thead th {\n",
       "        text-align: right;\n",
       "    }\n",
       "</style>\n",
       "<table border=\"1\" class=\"dataframe\">\n",
       "  <thead>\n",
       "    <tr style=\"text-align: right;\">\n",
       "      <th></th>\n",
       "      <th>Time</th>\n",
       "      <th>PRESSURE</th>\n",
       "      <th>TEMPERATURE</th>\n",
       "      <th>FLOW</th>\n",
       "      <th>P2</th>\n",
       "      <th>4K_flange</th>\n",
       "      <th>Still_flange</th>\n",
       "      <th>T_MXC_flange</th>\n",
       "      <th>T_CH8</th>\n",
       "      <th>R_CH8</th>\n",
       "      <th>heater</th>\n",
       "      <th>dt</th>\n",
       "    </tr>\n",
       "  </thead>\n",
       "  <tbody>\n",
       "    <tr>\n",
       "      <th>0</th>\n",
       "      <td>1.505153e+09</td>\n",
       "      <td>6.488</td>\n",
       "      <td>22.972</td>\n",
       "      <td>0.000036</td>\n",
       "      <td>0.003126</td>\n",
       "      <td>3.68326</td>\n",
       "      <td>3.34678</td>\n",
       "      <td>6.88776</td>\n",
       "      <td>2.07859</td>\n",
       "      <td>0.0</td>\n",
       "      <td>0.0</td>\n",
       "      <td>1.82</td>\n",
       "    </tr>\n",
       "    <tr>\n",
       "      <th>1</th>\n",
       "      <td>1.505153e+09</td>\n",
       "      <td>6.487</td>\n",
       "      <td>22.972</td>\n",
       "      <td>0.000036</td>\n",
       "      <td>0.003126</td>\n",
       "      <td>3.68326</td>\n",
       "      <td>3.34678</td>\n",
       "      <td>6.88776</td>\n",
       "      <td>2.06931</td>\n",
       "      <td>0.0</td>\n",
       "      <td>0.0</td>\n",
       "      <td>23.63</td>\n",
       "    </tr>\n",
       "    <tr>\n",
       "      <th>2</th>\n",
       "      <td>1.505153e+09</td>\n",
       "      <td>6.490</td>\n",
       "      <td>22.969</td>\n",
       "      <td>0.000036</td>\n",
       "      <td>0.003126</td>\n",
       "      <td>3.68231</td>\n",
       "      <td>3.34977</td>\n",
       "      <td>6.88776</td>\n",
       "      <td>2.06931</td>\n",
       "      <td>0.0</td>\n",
       "      <td>0.0</td>\n",
       "      <td>45.18</td>\n",
       "    </tr>\n",
       "    <tr>\n",
       "      <th>3</th>\n",
       "      <td>1.505153e+09</td>\n",
       "      <td>6.489</td>\n",
       "      <td>22.969</td>\n",
       "      <td>0.000036</td>\n",
       "      <td>0.003144</td>\n",
       "      <td>3.68231</td>\n",
       "      <td>3.34550</td>\n",
       "      <td>6.87122</td>\n",
       "      <td>2.06931</td>\n",
       "      <td>0.0</td>\n",
       "      <td>0.0</td>\n",
       "      <td>66.97</td>\n",
       "    </tr>\n",
       "    <tr>\n",
       "      <th>4</th>\n",
       "      <td>1.505153e+09</td>\n",
       "      <td>6.475</td>\n",
       "      <td>22.969</td>\n",
       "      <td>0.000036</td>\n",
       "      <td>0.003126</td>\n",
       "      <td>3.68231</td>\n",
       "      <td>3.34550</td>\n",
       "      <td>6.86597</td>\n",
       "      <td>2.02970</td>\n",
       "      <td>0.0</td>\n",
       "      <td>0.0</td>\n",
       "      <td>88.52</td>\n",
       "    </tr>\n",
       "  </tbody>\n",
       "</table>\n",
       "</div>"
      ],
      "text/plain": [
       "           Time  PRESSURE  TEMPERATURE      FLOW        P2  4K_flange  \\\n",
       "0  1.505153e+09     6.488       22.972  0.000036  0.003126    3.68326   \n",
       "1  1.505153e+09     6.487       22.972  0.000036  0.003126    3.68326   \n",
       "2  1.505153e+09     6.490       22.969  0.000036  0.003126    3.68231   \n",
       "3  1.505153e+09     6.489       22.969  0.000036  0.003144    3.68231   \n",
       "4  1.505153e+09     6.475       22.969  0.000036  0.003126    3.68231   \n",
       "\n",
       "   Still_flange  T_MXC_flange    T_CH8  R_CH8  heater     dt  \n",
       "0       3.34678       6.88776  2.07859    0.0     0.0   1.82  \n",
       "1       3.34678       6.88776  2.06931    0.0     0.0  23.63  \n",
       "2       3.34977       6.88776  2.06931    0.0     0.0  45.18  \n",
       "3       3.34550       6.87122  2.06931    0.0     0.0  66.97  \n",
       "4       3.34550       6.86597  2.02970    0.0     0.0  88.52  "
      ]
     },
     "execution_count": 12,
     "metadata": {},
     "output_type": "execute_result"
    }
   ],
   "source": [
    "df2.head()"
   ]
  },
  {
   "cell_type": "markdown",
   "metadata": {},
   "source": [
    "Pandas comes with a `testing` submodule. We can make sure that `df` and `df2` are equal."
   ]
  },
  {
   "cell_type": "code",
   "execution_count": 13,
   "metadata": {},
   "outputs": [],
   "source": [
    "pd.testing.assert_frame_equal(df, df2)"
   ]
  },
  {
   "cell_type": "markdown",
   "metadata": {},
   "source": [
    "## 2) Test your data"
   ]
  },
  {
   "cell_type": "code",
   "execution_count": 14,
   "metadata": {},
   "outputs": [
    {
     "data": {
      "text/plain": [
       "Time            float64\n",
       "PRESSURE        float64\n",
       "TEMPERATURE     float64\n",
       "FLOW            float64\n",
       "P2              float64\n",
       "4K_flange       float64\n",
       "Still_flange    float64\n",
       "T_MXC_flange    float64\n",
       "T_CH8           float64\n",
       "R_CH8           float64\n",
       "heater          float64\n",
       "dt              float64\n",
       "dtype: object"
      ]
     },
     "execution_count": 14,
     "metadata": {},
     "output_type": "execute_result"
    }
   ],
   "source": [
    "df.dtypes"
   ]
  },
  {
   "cell_type": "markdown",
   "metadata": {},
   "source": [
    "All variables are numerical, which is expected. Let us take a closer look at the first one, `Time`."
   ]
  },
  {
   "cell_type": "code",
   "execution_count": 15,
   "metadata": {},
   "outputs": [
    {
     "data": {
      "text/plain": [
       "0    1.505153e+09\n",
       "1    1.505153e+09\n",
       "2    1.505153e+09\n",
       "Name: Time, dtype: float64"
      ]
     },
     "execution_count": 15,
     "metadata": {},
     "output_type": "execute_result"
    }
   ],
   "source": [
    "df['Time'].head(3)"
   ]
  },
  {
   "cell_type": "markdown",
   "metadata": {},
   "source": [
    "How can we get the first element of the first column?"
   ]
  },
  {
   "cell_type": "code",
   "execution_count": 16,
   "metadata": {},
   "outputs": [
    {
     "data": {
      "text/plain": [
       "1505153332.2710001"
      ]
     },
     "execution_count": 16,
     "metadata": {},
     "output_type": "execute_result"
    }
   ],
   "source": [
    "df.iloc[0, 0]"
   ]
  },
  {
   "cell_type": "markdown",
   "metadata": {},
   "source": [
    "This is the number of seconds elapsed since 1970-01-01 (unix epoch start). It is called unix (or POSIX) time."
   ]
  },
  {
   "cell_type": "code",
   "execution_count": 17,
   "metadata": {},
   "outputs": [
    {
     "data": {
      "text/plain": [
       "1505153332.2710001"
      ]
     },
     "execution_count": 17,
     "metadata": {},
     "output_type": "execute_result"
    }
   ],
   "source": [
    "df.loc[0, 'Time']"
   ]
  },
  {
   "cell_type": "markdown",
   "metadata": {},
   "source": [
    "We can also take slices (like with NumPy). For more on indexing and selecting data, please refer to the [official docs](https://pandas.pydata.org/pandas-docs/stable/indexing.html) and/or this [notebook](https://github.com/mkcor/advanced-pandas/blob/master/notebooks/01_exploration.ipynb)."
   ]
  },
  {
   "cell_type": "code",
   "execution_count": 18,
   "metadata": {},
   "outputs": [
    {
     "data": {
      "text/plain": [
       "0    1.505153e+09\n",
       "1    1.505153e+09\n",
       "2    1.505153e+09\n",
       "Name: Time, dtype: float64"
      ]
     },
     "execution_count": 18,
     "metadata": {},
     "output_type": "execute_result"
    }
   ],
   "source": [
    "df.iloc[0:3, 0]"
   ]
  },
  {
   "cell_type": "code",
   "execution_count": 19,
   "metadata": {},
   "outputs": [
    {
     "data": {
      "text/plain": [
       "0   2017-09-11 18:08:52.271\n",
       "1   2017-09-11 18:09:13.908\n",
       "2   2017-09-11 18:09:35.717\n",
       "Name: Time, dtype: datetime64[ns]"
      ]
     },
     "execution_count": 19,
     "metadata": {},
     "output_type": "execute_result"
    }
   ],
   "source": [
    "pd.to_datetime(df['Time'], unit='s').head(3)"
   ]
  },
  {
   "cell_type": "markdown",
   "metadata": {},
   "source": [
    "We get UTC time. At this point, it is useful to reindex our DataFrame with a `datetime` index, so that we can leverage Pandas’ built-in functionality for working with [timeseries](http://pandas.pydata.org/pandas-docs/stable/timeseries.html)."
   ]
  },
  {
   "cell_type": "code",
   "execution_count": 20,
   "metadata": {},
   "outputs": [],
   "source": [
    "df.index = pd.to_datetime(df['Time'], unit='s')"
   ]
  },
  {
   "cell_type": "code",
   "execution_count": 21,
   "metadata": {},
   "outputs": [
    {
     "data": {
      "text/plain": [
       "pandas.core.indexes.datetimes.DatetimeIndex"
      ]
     },
     "execution_count": 21,
     "metadata": {},
     "output_type": "execute_result"
    }
   ],
   "source": [
    "type(df.index)"
   ]
  },
  {
   "cell_type": "code",
   "execution_count": 22,
   "metadata": {},
   "outputs": [
    {
     "data": {
      "text/html": [
       "<div>\n",
       "<style scoped>\n",
       "    .dataframe tbody tr th:only-of-type {\n",
       "        vertical-align: middle;\n",
       "    }\n",
       "\n",
       "    .dataframe tbody tr th {\n",
       "        vertical-align: top;\n",
       "    }\n",
       "\n",
       "    .dataframe thead th {\n",
       "        text-align: right;\n",
       "    }\n",
       "</style>\n",
       "<table border=\"1\" class=\"dataframe\">\n",
       "  <thead>\n",
       "    <tr style=\"text-align: right;\">\n",
       "      <th></th>\n",
       "      <th>Time</th>\n",
       "      <th>PRESSURE</th>\n",
       "      <th>TEMPERATURE</th>\n",
       "      <th>FLOW</th>\n",
       "      <th>P2</th>\n",
       "      <th>4K_flange</th>\n",
       "      <th>Still_flange</th>\n",
       "      <th>T_MXC_flange</th>\n",
       "      <th>T_CH8</th>\n",
       "      <th>R_CH8</th>\n",
       "      <th>heater</th>\n",
       "      <th>dt</th>\n",
       "    </tr>\n",
       "    <tr>\n",
       "      <th>Time</th>\n",
       "      <th></th>\n",
       "      <th></th>\n",
       "      <th></th>\n",
       "      <th></th>\n",
       "      <th></th>\n",
       "      <th></th>\n",
       "      <th></th>\n",
       "      <th></th>\n",
       "      <th></th>\n",
       "      <th></th>\n",
       "      <th></th>\n",
       "      <th></th>\n",
       "    </tr>\n",
       "  </thead>\n",
       "  <tbody>\n",
       "    <tr>\n",
       "      <th>2017-09-11 18:08:52.271</th>\n",
       "      <td>1.505153e+09</td>\n",
       "      <td>6.488</td>\n",
       "      <td>22.972</td>\n",
       "      <td>0.000036</td>\n",
       "      <td>0.003126</td>\n",
       "      <td>3.68326</td>\n",
       "      <td>3.34678</td>\n",
       "      <td>6.88776</td>\n",
       "      <td>2.07859</td>\n",
       "      <td>0.0</td>\n",
       "      <td>0.0</td>\n",
       "      <td>1.82</td>\n",
       "    </tr>\n",
       "    <tr>\n",
       "      <th>2017-09-11 18:09:13.908</th>\n",
       "      <td>1.505153e+09</td>\n",
       "      <td>6.487</td>\n",
       "      <td>22.972</td>\n",
       "      <td>0.000036</td>\n",
       "      <td>0.003126</td>\n",
       "      <td>3.68326</td>\n",
       "      <td>3.34678</td>\n",
       "      <td>6.88776</td>\n",
       "      <td>2.06931</td>\n",
       "      <td>0.0</td>\n",
       "      <td>0.0</td>\n",
       "      <td>23.63</td>\n",
       "    </tr>\n",
       "    <tr>\n",
       "      <th>2017-09-11 18:09:35.717</th>\n",
       "      <td>1.505153e+09</td>\n",
       "      <td>6.490</td>\n",
       "      <td>22.969</td>\n",
       "      <td>0.000036</td>\n",
       "      <td>0.003126</td>\n",
       "      <td>3.68231</td>\n",
       "      <td>3.34977</td>\n",
       "      <td>6.88776</td>\n",
       "      <td>2.06931</td>\n",
       "      <td>0.0</td>\n",
       "      <td>0.0</td>\n",
       "      <td>45.18</td>\n",
       "    </tr>\n",
       "  </tbody>\n",
       "</table>\n",
       "</div>"
      ],
      "text/plain": [
       "                                 Time  PRESSURE  TEMPERATURE      FLOW  \\\n",
       "Time                                                                     \n",
       "2017-09-11 18:08:52.271  1.505153e+09     6.488       22.972  0.000036   \n",
       "2017-09-11 18:09:13.908  1.505153e+09     6.487       22.972  0.000036   \n",
       "2017-09-11 18:09:35.717  1.505153e+09     6.490       22.969  0.000036   \n",
       "\n",
       "                               P2  4K_flange  Still_flange  T_MXC_flange  \\\n",
       "Time                                                                       \n",
       "2017-09-11 18:08:52.271  0.003126    3.68326       3.34678       6.88776   \n",
       "2017-09-11 18:09:13.908  0.003126    3.68326       3.34678       6.88776   \n",
       "2017-09-11 18:09:35.717  0.003126    3.68231       3.34977       6.88776   \n",
       "\n",
       "                           T_CH8  R_CH8  heater     dt  \n",
       "Time                                                    \n",
       "2017-09-11 18:08:52.271  2.07859    0.0     0.0   1.82  \n",
       "2017-09-11 18:09:13.908  2.06931    0.0     0.0  23.63  \n",
       "2017-09-11 18:09:35.717  2.06931    0.0     0.0  45.18  "
      ]
     },
     "execution_count": 22,
     "metadata": {},
     "output_type": "execute_result"
    }
   ],
   "source": [
    "df.head(3)"
   ]
  },
  {
   "cell_type": "markdown",
   "metadata": {},
   "source": [
    "Let us make our data timezone-aware."
   ]
  },
  {
   "cell_type": "code",
   "execution_count": 23,
   "metadata": {},
   "outputs": [
    {
     "data": {
      "text/plain": [
       "True"
      ]
     },
     "execution_count": 23,
     "metadata": {},
     "output_type": "execute_result"
    }
   ],
   "source": [
    "df.index.tz is None"
   ]
  },
  {
   "cell_type": "code",
   "execution_count": 24,
   "metadata": {},
   "outputs": [],
   "source": [
    "assert df.index.tz is None"
   ]
  },
  {
   "cell_type": "code",
   "execution_count": 25,
   "metadata": {},
   "outputs": [
    {
     "data": {
      "text/plain": [
       "Time\n",
       "2017-09-11 14:08:52.271000-04:00    1.505153e+09\n",
       "2017-09-11 14:09:13.908000-04:00    1.505153e+09\n",
       "2017-09-11 14:09:35.717000-04:00    1.505153e+09\n",
       "Name: Time, dtype: float64"
      ]
     },
     "execution_count": 25,
     "metadata": {},
     "output_type": "execute_result"
    }
   ],
   "source": [
    "df['Time'].tz_localize('UTC').tz_convert('US/Eastern').head(3)"
   ]
  },
  {
   "cell_type": "code",
   "execution_count": 26,
   "metadata": {},
   "outputs": [
    {
     "data": {
      "text/plain": [
       "Time\n",
       "2017-09-11 14:08:52.271000-04:00    1.505153e+09\n",
       "2017-09-11 14:09:13.908000-04:00    1.505153e+09\n",
       "2017-09-11 14:09:35.717000-04:00    1.505153e+09\n",
       "Name: Time, dtype: float64"
      ]
     },
     "execution_count": 26,
     "metadata": {},
     "output_type": "execute_result"
    }
   ],
   "source": [
    "df['Time'].tz_localize('UTC').tz_convert('America/Montreal').head(3)"
   ]
  },
  {
   "cell_type": "code",
   "execution_count": 27,
   "metadata": {},
   "outputs": [],
   "source": [
    "df.index = df.index.tz_localize('UTC').tz_convert('America/Montreal')"
   ]
  },
  {
   "cell_type": "code",
   "execution_count": 28,
   "metadata": {},
   "outputs": [
    {
     "data": {
      "text/html": [
       "<div>\n",
       "<style scoped>\n",
       "    .dataframe tbody tr th:only-of-type {\n",
       "        vertical-align: middle;\n",
       "    }\n",
       "\n",
       "    .dataframe tbody tr th {\n",
       "        vertical-align: top;\n",
       "    }\n",
       "\n",
       "    .dataframe thead th {\n",
       "        text-align: right;\n",
       "    }\n",
       "</style>\n",
       "<table border=\"1\" class=\"dataframe\">\n",
       "  <thead>\n",
       "    <tr style=\"text-align: right;\">\n",
       "      <th></th>\n",
       "      <th>Time</th>\n",
       "      <th>PRESSURE</th>\n",
       "      <th>TEMPERATURE</th>\n",
       "      <th>FLOW</th>\n",
       "      <th>P2</th>\n",
       "      <th>4K_flange</th>\n",
       "      <th>Still_flange</th>\n",
       "      <th>T_MXC_flange</th>\n",
       "      <th>T_CH8</th>\n",
       "      <th>R_CH8</th>\n",
       "      <th>heater</th>\n",
       "      <th>dt</th>\n",
       "    </tr>\n",
       "    <tr>\n",
       "      <th>Time</th>\n",
       "      <th></th>\n",
       "      <th></th>\n",
       "      <th></th>\n",
       "      <th></th>\n",
       "      <th></th>\n",
       "      <th></th>\n",
       "      <th></th>\n",
       "      <th></th>\n",
       "      <th></th>\n",
       "      <th></th>\n",
       "      <th></th>\n",
       "      <th></th>\n",
       "    </tr>\n",
       "  </thead>\n",
       "  <tbody>\n",
       "    <tr>\n",
       "      <th>2017-09-11 14:08:52.271000-04:00</th>\n",
       "      <td>1.505153e+09</td>\n",
       "      <td>6.488</td>\n",
       "      <td>22.972</td>\n",
       "      <td>0.000036</td>\n",
       "      <td>0.003126</td>\n",
       "      <td>3.68326</td>\n",
       "      <td>3.34678</td>\n",
       "      <td>6.88776</td>\n",
       "      <td>2.07859</td>\n",
       "      <td>0.0</td>\n",
       "      <td>0.0</td>\n",
       "      <td>1.82</td>\n",
       "    </tr>\n",
       "    <tr>\n",
       "      <th>2017-09-11 14:09:13.908000-04:00</th>\n",
       "      <td>1.505153e+09</td>\n",
       "      <td>6.487</td>\n",
       "      <td>22.972</td>\n",
       "      <td>0.000036</td>\n",
       "      <td>0.003126</td>\n",
       "      <td>3.68326</td>\n",
       "      <td>3.34678</td>\n",
       "      <td>6.88776</td>\n",
       "      <td>2.06931</td>\n",
       "      <td>0.0</td>\n",
       "      <td>0.0</td>\n",
       "      <td>23.63</td>\n",
       "    </tr>\n",
       "    <tr>\n",
       "      <th>2017-09-11 14:09:35.717000-04:00</th>\n",
       "      <td>1.505153e+09</td>\n",
       "      <td>6.490</td>\n",
       "      <td>22.969</td>\n",
       "      <td>0.000036</td>\n",
       "      <td>0.003126</td>\n",
       "      <td>3.68231</td>\n",
       "      <td>3.34977</td>\n",
       "      <td>6.88776</td>\n",
       "      <td>2.06931</td>\n",
       "      <td>0.0</td>\n",
       "      <td>0.0</td>\n",
       "      <td>45.18</td>\n",
       "    </tr>\n",
       "  </tbody>\n",
       "</table>\n",
       "</div>"
      ],
      "text/plain": [
       "                                          Time  PRESSURE  TEMPERATURE  \\\n",
       "Time                                                                    \n",
       "2017-09-11 14:08:52.271000-04:00  1.505153e+09     6.488       22.972   \n",
       "2017-09-11 14:09:13.908000-04:00  1.505153e+09     6.487       22.972   \n",
       "2017-09-11 14:09:35.717000-04:00  1.505153e+09     6.490       22.969   \n",
       "\n",
       "                                      FLOW        P2  4K_flange  Still_flange  \\\n",
       "Time                                                                            \n",
       "2017-09-11 14:08:52.271000-04:00  0.000036  0.003126    3.68326       3.34678   \n",
       "2017-09-11 14:09:13.908000-04:00  0.000036  0.003126    3.68326       3.34678   \n",
       "2017-09-11 14:09:35.717000-04:00  0.000036  0.003126    3.68231       3.34977   \n",
       "\n",
       "                                  T_MXC_flange    T_CH8  R_CH8  heater     dt  \n",
       "Time                                                                           \n",
       "2017-09-11 14:08:52.271000-04:00       6.88776  2.07859    0.0     0.0   1.82  \n",
       "2017-09-11 14:09:13.908000-04:00       6.88776  2.06931    0.0     0.0  23.63  \n",
       "2017-09-11 14:09:35.717000-04:00       6.88776  2.06931    0.0     0.0  45.18  "
      ]
     },
     "execution_count": 28,
     "metadata": {},
     "output_type": "execute_result"
    }
   ],
   "source": [
    "df.head(3)"
   ]
  },
  {
   "cell_type": "code",
   "execution_count": 29,
   "metadata": {},
   "outputs": [
    {
     "data": {
      "text/plain": [
       "False"
      ]
     },
     "execution_count": 29,
     "metadata": {},
     "output_type": "execute_result"
    }
   ],
   "source": [
    "df.index.tz is None"
   ]
  },
  {
   "cell_type": "markdown",
   "metadata": {},
   "source": [
    "## 3) Test their statistics"
   ]
  },
  {
   "cell_type": "markdown",
   "metadata": {},
   "source": [
    "We have seen the `describe()` method earlier, but nothing is more telling than a plot, right?\n",
    "\n",
    "Let us look at the response variable."
   ]
  },
  {
   "cell_type": "code",
   "execution_count": 30,
   "metadata": {},
   "outputs": [
    {
     "data": {
      "text/plain": [
       "<matplotlib.axes._subplots.AxesSubplot at 0x7f717f622208>"
      ]
     },
     "execution_count": 30,
     "metadata": {},
     "output_type": "execute_result"
    },
    {
     "data": {
      "image/png": "[encoded data removed]",
      "text/plain": [
       "<matplotlib.figure.Figure at 0x7f71a80c6550>"
      ]
     },
     "metadata": {},
     "output_type": "display_data"
    }
   ],
   "source": [
    "df['FLOW'].plot()"
   ]
  },
  {
   "cell_type": "markdown",
   "metadata": {},
   "source": [
    "It seems that something went wrong on September 12 around (right before) 4pm (16h). This we can (and should) crossmatch with the comments (lab notes) found at the beginning of the data file (line 15: `1539 started the regeneration of the mass spec and use the turbo on the wall for the time being`).\n",
    "\n",
    "Let us now look at the control variables."
   ]
  },
  {
   "cell_type": "code",
   "execution_count": 31,
   "metadata": {},
   "outputs": [
    {
     "data": {
      "text/plain": [
       "<matplotlib.axes._subplots.AxesSubplot at 0x7f717ed5b7f0>"
      ]
     },
     "execution_count": 31,
     "metadata": {},
     "output_type": "execute_result"
    },
    {
     "data": {
      "image/png": "[encoded data removed]",
      "text/plain": [
       "<matplotlib.figure.Figure at 0x7f71a80c6eb8>"
      ]
     },
     "metadata": {},
     "output_type": "display_data"
    }
   ],
   "source": [
    "df[['PRESSURE', 'T_CH8']].plot()"
   ]
  }
 ],
 "metadata": {
  "kernelspec": {
   "display_name": "Python 3",
   "language": "python",
   "name": "python3"
  },
  "language_info": {
   "codemirror_mode": {
    "name": "ipython",
    "version": 3
   },
   "file_extension": ".py",
   "mimetype": "text/x-python",
   "name": "python",
   "nbconvert_exporter": "python",
   "pygments_lexer": "ipython3",
   "version": "3.6.3"
  }
 },
 "nbformat": 4,
 "nbformat_minor": 2
}
